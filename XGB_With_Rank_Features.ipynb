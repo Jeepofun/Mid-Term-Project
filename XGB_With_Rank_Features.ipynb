{
 "cells": [
  {
   "cell_type": "code",
   "execution_count": 3,
   "id": "f380822b",
   "metadata": {},
   "outputs": [],
   "source": [
    "import pandas as pd\n",
    "from sklearn.metrics import mean_absolute_error as MAE\n",
    "import xgboost as xgb\n",
    "from sklearn.metrics import mean_squared_error\n",
    "import numpy as np\n",
    "from sklearn.model_selection import train_test_split\n",
    "import matplotlib.pyplot as plt\n",
    "from sklearn import metrics\n",
    "from sklearn.metrics import r2_score"
   ]
  },
  {
   "cell_type": "code",
   "execution_count": 7,
   "id": "486a323b",
   "metadata": {},
   "outputs": [
    {
     "data": {
      "text/html": [
       "<div>\n",
       "<style scoped>\n",
       "    .dataframe tbody tr th:only-of-type {\n",
       "        vertical-align: middle;\n",
       "    }\n",
       "\n",
       "    .dataframe tbody tr th {\n",
       "        vertical-align: top;\n",
       "    }\n",
       "\n",
       "    .dataframe thead th {\n",
       "        text-align: right;\n",
       "    }\n",
       "</style>\n",
       "<table border=\"1\" class=\"dataframe\">\n",
       "  <thead>\n",
       "    <tr style=\"text-align: right;\">\n",
       "      <th></th>\n",
       "      <th>day</th>\n",
       "      <th>unique_carrier_rank</th>\n",
       "      <th>tail_num_rank</th>\n",
       "      <th>origin_rank</th>\n",
       "      <th>dest_rank</th>\n",
       "      <th>distance</th>\n",
       "      <th>crs_arr_time</th>\n",
       "      <th>crs_elapsed_time</th>\n",
       "      <th>sdomt_gallons</th>\n",
       "      <th>tdomt_gallons</th>\n",
       "      <th>ts_cost</th>\n",
       "      <th>tdomt_cost</th>\n",
       "      <th>arr_delay</th>\n",
       "    </tr>\n",
       "  </thead>\n",
       "  <tbody>\n",
       "    <tr>\n",
       "      <th>0</th>\n",
       "      <td>1</td>\n",
       "      <td>11</td>\n",
       "      <td>5804</td>\n",
       "      <td>201</td>\n",
       "      <td>279</td>\n",
       "      <td>413.0</td>\n",
       "      <td>20.373333</td>\n",
       "      <td>91.0</td>\n",
       "      <td>53977431.0</td>\n",
       "      <td>53985306.0</td>\n",
       "      <td>142005277.0</td>\n",
       "      <td>114629092.0</td>\n",
       "      <td>12.0</td>\n",
       "    </tr>\n",
       "    <tr>\n",
       "      <th>1</th>\n",
       "      <td>3</td>\n",
       "      <td>11</td>\n",
       "      <td>5804</td>\n",
       "      <td>305</td>\n",
       "      <td>279</td>\n",
       "      <td>187.0</td>\n",
       "      <td>13.906667</td>\n",
       "      <td>65.0</td>\n",
       "      <td>53977431.0</td>\n",
       "      <td>53985306.0</td>\n",
       "      <td>142005277.0</td>\n",
       "      <td>114629092.0</td>\n",
       "      <td>3.0</td>\n",
       "    </tr>\n",
       "    <tr>\n",
       "      <th>2</th>\n",
       "      <td>4</td>\n",
       "      <td>11</td>\n",
       "      <td>5804</td>\n",
       "      <td>305</td>\n",
       "      <td>279</td>\n",
       "      <td>187.0</td>\n",
       "      <td>8.093333</td>\n",
       "      <td>70.0</td>\n",
       "      <td>53977431.0</td>\n",
       "      <td>53985306.0</td>\n",
       "      <td>142005277.0</td>\n",
       "      <td>114629092.0</td>\n",
       "      <td>-11.0</td>\n",
       "    </tr>\n",
       "    <tr>\n",
       "      <th>3</th>\n",
       "      <td>5</td>\n",
       "      <td>11</td>\n",
       "      <td>5804</td>\n",
       "      <td>295</td>\n",
       "      <td>279</td>\n",
       "      <td>867.0</td>\n",
       "      <td>17.200000</td>\n",
       "      <td>135.0</td>\n",
       "      <td>53977431.0</td>\n",
       "      <td>53985306.0</td>\n",
       "      <td>142005277.0</td>\n",
       "      <td>114629092.0</td>\n",
       "      <td>243.0</td>\n",
       "    </tr>\n",
       "    <tr>\n",
       "      <th>4</th>\n",
       "      <td>5</td>\n",
       "      <td>11</td>\n",
       "      <td>5804</td>\n",
       "      <td>130</td>\n",
       "      <td>279</td>\n",
       "      <td>369.0</td>\n",
       "      <td>21.493333</td>\n",
       "      <td>80.0</td>\n",
       "      <td>53977431.0</td>\n",
       "      <td>53985306.0</td>\n",
       "      <td>142005277.0</td>\n",
       "      <td>114629092.0</td>\n",
       "      <td>255.0</td>\n",
       "    </tr>\n",
       "  </tbody>\n",
       "</table>\n",
       "</div>"
      ],
      "text/plain": [
       "   day  unique_carrier_rank  tail_num_rank  origin_rank  dest_rank  distance  \\\n",
       "0    1                   11           5804          201        279     413.0   \n",
       "1    3                   11           5804          305        279     187.0   \n",
       "2    4                   11           5804          305        279     187.0   \n",
       "3    5                   11           5804          295        279     867.0   \n",
       "4    5                   11           5804          130        279     369.0   \n",
       "\n",
       "   crs_arr_time  crs_elapsed_time  sdomt_gallons  tdomt_gallons      ts_cost  \\\n",
       "0     20.373333              91.0     53977431.0     53985306.0  142005277.0   \n",
       "1     13.906667              65.0     53977431.0     53985306.0  142005277.0   \n",
       "2      8.093333              70.0     53977431.0     53985306.0  142005277.0   \n",
       "3     17.200000             135.0     53977431.0     53985306.0  142005277.0   \n",
       "4     21.493333              80.0     53977431.0     53985306.0  142005277.0   \n",
       "\n",
       "    tdomt_cost  arr_delay  \n",
       "0  114629092.0       12.0  \n",
       "1  114629092.0        3.0  \n",
       "2  114629092.0      -11.0  \n",
       "3  114629092.0      243.0  \n",
       "4  114629092.0      255.0  "
      ]
     },
     "execution_count": 7,
     "metadata": {},
     "output_type": "execute_result"
    }
   ],
   "source": [
    "data = pd.read_csv(\"Kevin_training.csv\", low_memory=False)\n",
    "data.head()"
   ]
  },
  {
   "cell_type": "code",
   "execution_count": 16,
   "id": "6940eec6",
   "metadata": {},
   "outputs": [],
   "source": [
    "data_train = data[['day',\n",
    " 'unique_carrier_rank',\n",
    " 'tail_num_rank',\n",
    " 'origin_rank',\n",
    " 'dest_rank',\n",
    " 'distance',\n",
    " 'crs_arr_time',\n",
    " 'crs_elapsed_time',\n",
    " 'sdomt_gallons',\n",
    " 'tdomt_gallons',\n",
    " 'ts_cost',\n",
    " 'tdomt_cost']]"
   ]
  },
  {
   "cell_type": "code",
   "execution_count": 17,
   "id": "49ee9b17",
   "metadata": {},
   "outputs": [],
   "source": [
    "X = data_train\n",
    "y = data['arr_delay']"
   ]
  },
  {
   "cell_type": "code",
   "execution_count": 18,
   "id": "151148b9",
   "metadata": {},
   "outputs": [
    {
     "name": "stdout",
     "output_type": "stream",
     "text": [
      "[11:04:35] WARNING: /Users/runner/miniforge3/conda-bld/xgboost-split_1637426408905/work/src/objective/regression_obj.cu:188: reg:linear is now deprecated in favor of reg:squarederror.\n",
      "[11:04:36] WARNING: /Users/runner/miniforge3/conda-bld/xgboost-split_1637426408905/work/src/objective/regression_obj.cu:188: reg:linear is now deprecated in favor of reg:squarederror.\n",
      "[11:04:36] WARNING: /Users/runner/miniforge3/conda-bld/xgboost-split_1637426408905/work/src/objective/regression_obj.cu:188: reg:linear is now deprecated in favor of reg:squarederror.\n",
      "[11:04:36] WARNING: /Users/runner/miniforge3/conda-bld/xgboost-split_1637426408905/work/src/objective/regression_obj.cu:188: reg:linear is now deprecated in favor of reg:squarederror.\n",
      "[11:04:36] WARNING: /Users/runner/miniforge3/conda-bld/xgboost-split_1637426408905/work/src/objective/regression_obj.cu:188: reg:linear is now deprecated in favor of reg:squarederror.\n",
      "[11:04:36] WARNING: /Users/runner/miniforge3/conda-bld/xgboost-split_1637426408905/work/src/objective/regression_obj.cu:188: reg:linear is now deprecated in favor of reg:squarederror.\n"
     ]
    }
   ],
   "source": [
    "data_dmatrix = xgb.DMatrix(data=X, label=y)\n",
    "X_train, X_test, y_train, y_test = train_test_split(X,y, test_size=.2, random_state=123)\n",
    "xg_reg = xgb.XGBRegressor(objective = 'reg:linear', colsample_bytree = .3, learning_rate=.1, max_depth = 5, alpha=10,\n",
    "                         n_estimators=10)\n",
    "xg_reg.fit(X_train, y_train)\n",
    "y_pred = xg_reg.predict(X_test)\n",
    "params = {\"objective\":\"reg:linear\", 'colsample_bytree':.3, 'learning_rate':.1, 'max_depth':5, 'alpha':10}\n",
    "cv_results = xgb.cv(dtrain=data_dmatrix, params=params, nfold=5, num_boost_round=500, early_stopping_rounds=20, \n",
    "                    metrics=\"rmse\", as_pandas=True, seed=123)"
   ]
  },
  {
   "cell_type": "code",
   "execution_count": 19,
   "id": "f52e9888",
   "metadata": {},
   "outputs": [
    {
     "data": {
      "text/html": [
       "<div>\n",
       "<style scoped>\n",
       "    .dataframe tbody tr th:only-of-type {\n",
       "        vertical-align: middle;\n",
       "    }\n",
       "\n",
       "    .dataframe tbody tr th {\n",
       "        vertical-align: top;\n",
       "    }\n",
       "\n",
       "    .dataframe thead th {\n",
       "        text-align: right;\n",
       "    }\n",
       "</style>\n",
       "<table border=\"1\" class=\"dataframe\">\n",
       "  <thead>\n",
       "    <tr style=\"text-align: right;\">\n",
       "      <th></th>\n",
       "      <th>train-rmse-mean</th>\n",
       "      <th>train-rmse-std</th>\n",
       "      <th>test-rmse-mean</th>\n",
       "      <th>test-rmse-std</th>\n",
       "    </tr>\n",
       "  </thead>\n",
       "  <tbody>\n",
       "    <tr>\n",
       "      <th>174</th>\n",
       "      <td>48.644849</td>\n",
       "      <td>0.244012</td>\n",
       "      <td>49.906899</td>\n",
       "      <td>0.627893</td>\n",
       "    </tr>\n",
       "    <tr>\n",
       "      <th>175</th>\n",
       "      <td>48.640333</td>\n",
       "      <td>0.247977</td>\n",
       "      <td>49.907685</td>\n",
       "      <td>0.628124</td>\n",
       "    </tr>\n",
       "    <tr>\n",
       "      <th>176</th>\n",
       "      <td>48.632593</td>\n",
       "      <td>0.246734</td>\n",
       "      <td>49.905914</td>\n",
       "      <td>0.626280</td>\n",
       "    </tr>\n",
       "    <tr>\n",
       "      <th>177</th>\n",
       "      <td>48.622024</td>\n",
       "      <td>0.239144</td>\n",
       "      <td>49.905636</td>\n",
       "      <td>0.627241</td>\n",
       "    </tr>\n",
       "    <tr>\n",
       "      <th>178</th>\n",
       "      <td>48.609855</td>\n",
       "      <td>0.238951</td>\n",
       "      <td>49.904223</td>\n",
       "      <td>0.628211</td>\n",
       "    </tr>\n",
       "  </tbody>\n",
       "</table>\n",
       "</div>"
      ],
      "text/plain": [
       "     train-rmse-mean  train-rmse-std  test-rmse-mean  test-rmse-std\n",
       "174        48.644849        0.244012       49.906899       0.627893\n",
       "175        48.640333        0.247977       49.907685       0.628124\n",
       "176        48.632593        0.246734       49.905914       0.626280\n",
       "177        48.622024        0.239144       49.905636       0.627241\n",
       "178        48.609855        0.238951       49.904223       0.628211"
      ]
     },
     "execution_count": 19,
     "metadata": {},
     "output_type": "execute_result"
    }
   ],
   "source": [
    "cv_results.tail()"
   ]
  },
  {
   "cell_type": "code",
   "execution_count": 20,
   "id": "9d1ec6cc",
   "metadata": {},
   "outputs": [
    {
     "name": "stdout",
     "output_type": "stream",
     "text": [
      "0.04460917688888366\n"
     ]
    }
   ],
   "source": [
    "print(metrics.r2_score(y_test, y_pred))"
   ]
  },
  {
   "cell_type": "code",
   "execution_count": 21,
   "id": "bfa940de",
   "metadata": {},
   "outputs": [
    {
     "name": "stdout",
     "output_type": "stream",
     "text": [
      "24.14009608597857\n"
     ]
    }
   ],
   "source": [
    "from sklearn.metrics import mean_absolute_error as MAE\n",
    "print(MAE(y_test,y_pred))"
   ]
  },
  {
   "cell_type": "code",
   "execution_count": 22,
   "id": "1e9116ed",
   "metadata": {},
   "outputs": [
    {
     "data": {
      "image/png": "[encoded data removed]",
      "text/plain": [
       "<Figure size 576x576 with 1 Axes>"
      ]
     },
     "metadata": {
      "needs_background": "light"
     },
     "output_type": "display_data"
    }
   ],
   "source": [
    "xgb.plot_importance(xg_reg)\n",
    "plt.rcParams['figure.figsize'] = [8,8]\n",
    "plt.show()"
   ]
  }
 ],
 "metadata": {
  "kernelspec": {
   "display_name": "Python 3 (ipykernel)",
   "language": "python",
   "name": "python3"
  },
  "language_info": {
   "codemirror_mode": {
    "name": "ipython",
    "version": 3
   },
   "file_extension": ".py",
   "mimetype": "text/x-python",
   "name": "python",
   "nbconvert_exporter": "python",
   "pygments_lexer": "ipython3",
   "version": "3.9.7"
  }
 },
 "nbformat": 4,
 "nbformat_minor": 5
}
