{
 "cells": [
  {
   "cell_type": "code",
   "execution_count": 1,
   "id": "2cb926f1",
   "metadata": {},
   "outputs": [],
   "source": [
    "from sklearn.naive_bayes import GaussianNB\n",
    "from sklearn.model_selection import train_test_split\n",
    "import pandas as pd"
   ]
  },
  {
   "cell_type": "code",
   "execution_count": 3,
   "id": "36bd152b",
   "metadata": {},
   "outputs": [],
   "source": [
    "df = pd.read_csv('MVP_Data.csv', low_memory=False)"
   ]
  },
  {
   "cell_type": "code",
   "execution_count": 13,
   "id": "08f1aa27",
   "metadata": {},
   "outputs": [],
   "source": [
    "#Create the ranked features\n",
    "df3 = df.groupby('origin').mean()\n",
    "df3 = df3.sort_values(by = 'arr_delay')\n",
    "df3['origin_rank'] = [x + 1 for x in range(len(df3['arr_delay']))]\n",
    "df3['origin'] = df3.index\n",
    "df3 = df3[['origin_rank','origin']]\n",
    "df3 = df3.reset_index(drop = True)\n",
    "df = pd.merge(df,df3, on = 'origin')\n",
    "\n",
    "\n",
    "df3 = df.groupby('dest').mean()\n",
    "df3 = df3.sort_values(by = 'arr_delay')\n",
    "df3['dest_rank'] = [x + 1 for x in range(len(df3['arr_delay']))]\n",
    "df3['dest'] = df3.index\n",
    "df3 = df3[['dest_rank','dest']]\n",
    "df3 = df3.reset_index(drop = True)\n",
    "df = pd.merge(df,df3, on = 'dest')\n",
    "\n",
    "\n",
    "df3 = df.groupby('tail_num').mean()\n",
    "df3 = df3.sort_values(by = 'arr_delay')\n",
    "df3['tail_num_rank'] = [x + 1 for x in range(len(df3['arr_delay']))]\n",
    "df3['tail_num'] = df3.index\n",
    "df3 = df3[['tail_num_rank','tail_num']]\n",
    "df3 = df3.reset_index(drop = True)\n",
    "df = pd.merge(df,df3, on = 'tail_num')\n",
    "\n",
    "\n",
    "df3 = df.groupby('unique_carrier').mean()\n",
    "df3 = df3.sort_values(by = 'arr_delay')\n",
    "df3['unique_carrier_rank'] = [x + 1 for x in range(len(df3['arr_delay']))]\n",
    "df3['unique_carrier'] = df3.index\n",
    "df3 = df3[['unique_carrier_rank','unique_carrier']]\n",
    "df3 = df3.reset_index(drop = True)\n",
    "df = pd.merge(df,df3, on = 'unique_carrier')"
   ]
  },
  {
   "cell_type": "code",
   "execution_count": 6,
   "id": "8ea57e10",
   "metadata": {},
   "outputs": [],
   "source": [
    "#Scale the flights data\n",
    "df['sdomt_gallons'] = df['sdomt_gallons'] // 100000\n",
    "df['tdomt_gallons'] = df['tdomt_gallons'] // 100000\n",
    "df['ts_cost'] = df['ts_cost'] // 1000000\n",
    "df['tdomt_cost'] = df['tdomt_cost'] // 1000000"
   ]
  },
  {
   "cell_type": "code",
   "execution_count": 9,
   "id": "598902f9",
   "metadata": {},
   "outputs": [],
   "source": [
    "df['day'] = (pd.to_datetime(df['fl_date'], format='%Y-%m-%d')).dt.day"
   ]
  },
  {
   "cell_type": "code",
   "execution_count": null,
   "id": "7f4539ad",
   "metadata": {},
   "outputs": [],
   "source": []
  },
  {
   "cell_type": "code",
   "execution_count": 14,
   "id": "2256190e",
   "metadata": {},
   "outputs": [],
   "source": [
    "df_train = df[['sdomt_gallons','tdomt_gallons','ts_cost','tdomt_cost','origin_rank','dest_rank','tail_num_rank','unique_carrier_rank','distance','day','arr_delay']]"
   ]
  },
  {
   "cell_type": "code",
   "execution_count": 15,
   "id": "3d533d0d",
   "metadata": {},
   "outputs": [
    {
     "name": "stderr",
     "output_type": "stream",
     "text": [
      "/Users/donmiller/Downloads/miniconda3/lib/python3.9/site-packages/pandas/util/_decorators.py:311: SettingWithCopyWarning: \n",
      "A value is trying to be set on a copy of a slice from a DataFrame\n",
      "\n",
      "See the caveats in the documentation: https://pandas.pydata.org/pandas-docs/stable/user_guide/indexing.html#returning-a-view-versus-a-copy\n",
      "  return func(*args, **kwargs)\n"
     ]
    }
   ],
   "source": [
    "df_train.dropna(inplace=True)"
   ]
  },
  {
   "cell_type": "code",
   "execution_count": 21,
   "id": "b6775854",
   "metadata": {},
   "outputs": [],
   "source": [
    "X = df_train.drop(['arr_delay'], axis=1)\n",
    "y = df_train['arr_delay'].astype('int')"
   ]
  },
  {
   "cell_type": "code",
   "execution_count": 22,
   "id": "0429ff70",
   "metadata": {},
   "outputs": [],
   "source": [
    "X_train, X_test, y_train, y_test = train_test_split(X, y, test_size = 0.2, random_state=42)"
   ]
  },
  {
   "cell_type": "code",
   "execution_count": 23,
   "id": "830df408",
   "metadata": {},
   "outputs": [],
   "source": [
    "model1 = GaussianNB()"
   ]
  },
  {
   "cell_type": "code",
   "execution_count": 24,
   "id": "341c193b",
   "metadata": {},
   "outputs": [
    {
     "data": {
      "text/plain": [
       "GaussianNB()"
      ]
     },
     "execution_count": 24,
     "metadata": {},
     "output_type": "execute_result"
    }
   ],
   "source": [
    "model1.fit(X_train, y_train)"
   ]
  },
  {
   "cell_type": "code",
   "execution_count": 25,
   "id": "c33fadb5",
   "metadata": {},
   "outputs": [],
   "source": [
    "y_pred = model1.predict(X_test)"
   ]
  },
  {
   "cell_type": "code",
   "execution_count": 28,
   "id": "6802ac70",
   "metadata": {},
   "outputs": [
    {
     "name": "stdout",
     "output_type": "stream",
     "text": [
      "Accuracy: 0.02437313379141634\n"
     ]
    }
   ],
   "source": [
    "from sklearn import metrics\n",
    "print('Accuracy:',metrics.accuracy_score(y_test,y_pred))"
   ]
  },
  {
   "cell_type": "code",
   "execution_count": 29,
   "id": "7ad67f3b",
   "metadata": {},
   "outputs": [
    {
     "name": "stdout",
     "output_type": "stream",
     "text": [
      "-8.579854580393686\n"
     ]
    }
   ],
   "source": [
    "print(metrics.r2_score(y_test, y_pred))"
   ]
  },
  {
   "cell_type": "code",
   "execution_count": 30,
   "id": "1cb5b319",
   "metadata": {},
   "outputs": [
    {
     "name": "stdout",
     "output_type": "stream",
     "text": [
      "62.65240853329496\n"
     ]
    }
   ],
   "source": [
    "from sklearn.metrics import mean_absolute_error as MAE\n",
    "print(MAE(y_test,y_pred))"
   ]
  }
 ],
 "metadata": {
  "kernelspec": {
   "display_name": "Python 3 (ipykernel)",
   "language": "python",
   "name": "python3"
  },
  "language_info": {
   "codemirror_mode": {
    "name": "ipython",
    "version": 3
   },
   "file_extension": ".py",
   "mimetype": "text/x-python",
   "name": "python",
   "nbconvert_exporter": "python",
   "pygments_lexer": "ipython3",
   "version": "3.9.7"
  }
 },
 "nbformat": 4,
 "nbformat_minor": 5
}
