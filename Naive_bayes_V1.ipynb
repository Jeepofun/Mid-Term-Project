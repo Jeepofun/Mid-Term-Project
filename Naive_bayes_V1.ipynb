{
 "cells": [
  {
   "cell_type": "code",
   "execution_count": 1,
   "id": "f3522e60-4d63-4ea9-85e1-3a0ebe709667",
   "metadata": {},
   "outputs": [],
   "source": [
    "from sklearn.naive_bayes import GaussianNB\n",
    "from sklearn.model_selection import train_test_split\n",
    "import pandas as pd"
   ]
  },
  {
   "cell_type": "code",
   "execution_count": 2,
   "id": "59ef0064-3fa7-4ed9-87a7-58cf903e4dec",
   "metadata": {},
   "outputs": [
    {
     "name": "stderr",
     "output_type": "stream",
     "text": [
      "C:\\Users\\Dylan\\AppData\\Roaming\\Python\\Python310\\site-packages\\IPython\\core\\interactiveshell.py:3457: DtypeWarning: Columns (8) have mixed types.Specify dtype option on import or set low_memory=False.\n",
      "  exec(code_obj, self.user_global_ns, self.user_ns)\n"
     ]
    }
   ],
   "source": [
    "df = pd.read_csv('MVP_Data.csv')\n"
   ]
  },
  {
   "cell_type": "code",
   "execution_count": 3,
   "id": "3fdccb83-dc0e-48b7-97a1-ecb5cefb9ef1",
   "metadata": {},
   "outputs": [],
   "source": [
    "df3 = df.groupby('origin').mean()\n",
    "df3 = df3.sort_values(by = 'arr_delay')\n",
    "df3['origin_rank'] = [x + 1 for x in range(len(df3['arr_delay']))]\n",
    "df3['origin'] = df3.index\n",
    "df3 = df3[['origin_rank','origin']]\n",
    "df3 = df3.reset_index(drop = True)\n",
    "df = pd.merge(df,df3, on = 'origin')\n",
    "\n",
    "\n",
    "df3 = df.groupby('dest').mean()\n",
    "df3 = df3.sort_values(by = 'arr_delay')\n",
    "df3['dest_rank'] = [x + 1 for x in range(len(df3['arr_delay']))]\n",
    "df3['dest'] = df3.index\n",
    "df3 = df3[['dest_rank','dest']]\n",
    "df3 = df3.reset_index(drop = True)\n",
    "df = pd.merge(df,df3, on = 'dest')\n",
    "\n",
    "\n",
    "df3 = df.groupby('tail_num').mean()\n",
    "df3 = df3.sort_values(by = 'arr_delay')\n",
    "df3['tail_num_rank'] = [x + 1 for x in range(len(df3['arr_delay']))]\n",
    "df3['tail_num'] = df3.index\n",
    "df3 = df3[['tail_num_rank','tail_num']]\n",
    "df3 = df3.reset_index(drop = True)\n",
    "df = pd.merge(df,df3, on = 'tail_num')\n",
    "\n",
    "\n",
    "df3 = df.groupby('unique_carrier').mean()\n",
    "df3 = df3.sort_values(by = 'arr_delay')\n",
    "df3['unique_carrier_rank'] = [x + 1 for x in range(len(df3['arr_delay']))]\n",
    "df3['unique_carrier'] = df3.index\n",
    "df3 = df3[['unique_carrier_rank','unique_carrier']]\n",
    "df3 = df3.reset_index(drop = True)\n",
    "df = pd.merge(df,df3, on = 'unique_carrier')"
   ]
  },
  {
   "cell_type": "code",
   "execution_count": 4,
   "id": "5c7b24ad-4932-4d79-a5ad-263f7896093b",
   "metadata": {},
   "outputs": [],
   "source": [
    "df['sdomt_gallons'] = df['sdomt_gallons'] // 100000\n",
    "df['tdomt_gallons'] = df['tdomt_gallons'] // 100000\n",
    "df['ts_cost'] = df['ts_cost'] // 1000000\n",
    "df['tdomt_cost'] = df['tdomt_cost'] // 1000000"
   ]
  },
  {
   "cell_type": "code",
   "execution_count": 5,
   "id": "8dbeb1f9-8e12-455f-ba98-8c4c45fc0139",
   "metadata": {},
   "outputs": [],
   "source": [
    "df['day'] = (pd.to_datetime(df['fl_date'], format='%Y-%m-%d')).dt.day"
   ]
  },
  {
   "cell_type": "code",
   "execution_count": 6,
   "id": "0f5fe08d-b454-45ea-8810-91f0da3343e1",
   "metadata": {},
   "outputs": [],
   "source": [
    "df_train = df[['sdomt_gallons','tdomt_gallons','ts_cost','tdomt_cost','origin_rank','dest_rank','tail_num_rank','unique_carrier_rank','distance','day','arr_delay']]"
   ]
  },
  {
   "cell_type": "code",
   "execution_count": 7,
   "id": "4246cdde-9a51-489c-b5a0-e6d02149a805",
   "metadata": {},
   "outputs": [
    {
     "name": "stderr",
     "output_type": "stream",
     "text": [
      "C:\\Programming\\Anaconda\\envs\\GeoPandasModule\\lib\\site-packages\\pandas\\util\\_decorators.py:311: SettingWithCopyWarning: \n",
      "A value is trying to be set on a copy of a slice from a DataFrame\n",
      "\n",
      "See the caveats in the documentation: https://pandas.pydata.org/pandas-docs/stable/user_guide/indexing.html#returning-a-view-versus-a-copy\n",
      "  return func(*args, **kwargs)\n"
     ]
    }
   ],
   "source": [
    "df_train.dropna(inplace=True)"
   ]
  },
  {
   "cell_type": "code",
   "execution_count": 8,
   "id": "b0ecbb4b-38a9-420b-8731-9f05bd8d0b5b",
   "metadata": {},
   "outputs": [
    {
     "data": {
      "text/html": [
       "<div>\n",
       "<style scoped>\n",
       "    .dataframe tbody tr th:only-of-type {\n",
       "        vertical-align: middle;\n",
       "    }\n",
       "\n",
       "    .dataframe tbody tr th {\n",
       "        vertical-align: top;\n",
       "    }\n",
       "\n",
       "    .dataframe thead th {\n",
       "        text-align: right;\n",
       "    }\n",
       "</style>\n",
       "<table border=\"1\" class=\"dataframe\">\n",
       "  <thead>\n",
       "    <tr style=\"text-align: right;\">\n",
       "      <th></th>\n",
       "      <th>sdomt_gallons</th>\n",
       "      <th>tdomt_gallons</th>\n",
       "      <th>ts_cost</th>\n",
       "      <th>tdomt_cost</th>\n",
       "      <th>origin_rank</th>\n",
       "      <th>dest_rank</th>\n",
       "      <th>tail_num_rank</th>\n",
       "      <th>unique_carrier_rank</th>\n",
       "      <th>distance</th>\n",
       "      <th>day</th>\n",
       "      <th>arr_delay</th>\n",
       "    </tr>\n",
       "  </thead>\n",
       "  <tbody>\n",
       "    <tr>\n",
       "      <th>0</th>\n",
       "      <td>539.0</td>\n",
       "      <td>539.0</td>\n",
       "      <td>142.0</td>\n",
       "      <td>114.0</td>\n",
       "      <td>201</td>\n",
       "      <td>279</td>\n",
       "      <td>5804</td>\n",
       "      <td>11</td>\n",
       "      <td>413.0</td>\n",
       "      <td>1</td>\n",
       "      <td>12.0</td>\n",
       "    </tr>\n",
       "    <tr>\n",
       "      <th>1</th>\n",
       "      <td>539.0</td>\n",
       "      <td>539.0</td>\n",
       "      <td>142.0</td>\n",
       "      <td>114.0</td>\n",
       "      <td>305</td>\n",
       "      <td>279</td>\n",
       "      <td>5804</td>\n",
       "      <td>11</td>\n",
       "      <td>187.0</td>\n",
       "      <td>3</td>\n",
       "      <td>3.0</td>\n",
       "    </tr>\n",
       "    <tr>\n",
       "      <th>2</th>\n",
       "      <td>539.0</td>\n",
       "      <td>539.0</td>\n",
       "      <td>142.0</td>\n",
       "      <td>114.0</td>\n",
       "      <td>305</td>\n",
       "      <td>279</td>\n",
       "      <td>5804</td>\n",
       "      <td>11</td>\n",
       "      <td>187.0</td>\n",
       "      <td>4</td>\n",
       "      <td>-11.0</td>\n",
       "    </tr>\n",
       "    <tr>\n",
       "      <th>3</th>\n",
       "      <td>539.0</td>\n",
       "      <td>539.0</td>\n",
       "      <td>142.0</td>\n",
       "      <td>114.0</td>\n",
       "      <td>295</td>\n",
       "      <td>279</td>\n",
       "      <td>5804</td>\n",
       "      <td>11</td>\n",
       "      <td>867.0</td>\n",
       "      <td>5</td>\n",
       "      <td>243.0</td>\n",
       "    </tr>\n",
       "    <tr>\n",
       "      <th>4</th>\n",
       "      <td>539.0</td>\n",
       "      <td>539.0</td>\n",
       "      <td>142.0</td>\n",
       "      <td>114.0</td>\n",
       "      <td>130</td>\n",
       "      <td>279</td>\n",
       "      <td>5804</td>\n",
       "      <td>11</td>\n",
       "      <td>369.0</td>\n",
       "      <td>5</td>\n",
       "      <td>255.0</td>\n",
       "    </tr>\n",
       "  </tbody>\n",
       "</table>\n",
       "</div>"
      ],
      "text/plain": [
       "   sdomt_gallons  tdomt_gallons  ts_cost  tdomt_cost  origin_rank  dest_rank  \\\n",
       "0          539.0          539.0    142.0       114.0          201        279   \n",
       "1          539.0          539.0    142.0       114.0          305        279   \n",
       "2          539.0          539.0    142.0       114.0          305        279   \n",
       "3          539.0          539.0    142.0       114.0          295        279   \n",
       "4          539.0          539.0    142.0       114.0          130        279   \n",
       "\n",
       "   tail_num_rank  unique_carrier_rank  distance  day  arr_delay  \n",
       "0           5804                   11     413.0    1       12.0  \n",
       "1           5804                   11     187.0    3        3.0  \n",
       "2           5804                   11     187.0    4      -11.0  \n",
       "3           5804                   11     867.0    5      243.0  \n",
       "4           5804                   11     369.0    5      255.0  "
      ]
     },
     "execution_count": 8,
     "metadata": {},
     "output_type": "execute_result"
    }
   ],
   "source": [
    "df_train.head()"
   ]
  },
  {
   "cell_type": "code",
   "execution_count": 9,
   "id": "5c81facf-61d1-4af6-8e26-25e45f37bd0b",
   "metadata": {},
   "outputs": [],
   "source": [
    "XNB = df_train.drop(['arr_delay'], axis=1)  \n",
    "\n",
    "yNB = df_train['arr_delay'].astype('int')"
   ]
  },
  {
   "cell_type": "code",
   "execution_count": 10,
   "id": "3e7882d4-d8f0-40c3-88ee-4f2942d83f3b",
   "metadata": {},
   "outputs": [],
   "source": [
    "XNB_train, XNB_test, yNB_train, yNB_test = train_test_split(XNB, yNB, test_size = 0.2, random_state=42)"
   ]
  },
  {
   "cell_type": "code",
   "execution_count": 11,
   "id": "1ba52157-65a9-4e6c-9051-8da9884b3d8f",
   "metadata": {},
   "outputs": [],
   "source": [
    "model1 = GaussianNB()"
   ]
  },
  {
   "cell_type": "code",
   "execution_count": 12,
   "id": "186b324d-e4f6-4483-b435-207300688232",
   "metadata": {},
   "outputs": [
    {
     "data": {
      "text/plain": [
       "GaussianNB()"
      ]
     },
     "execution_count": 12,
     "metadata": {},
     "output_type": "execute_result"
    }
   ],
   "source": [
    "model1.fit(XNB_train,yNB_train)"
   ]
  },
  {
   "cell_type": "code",
   "execution_count": 13,
   "id": "0163b689-c345-490a-9775-a1156d9478ed",
   "metadata": {},
   "outputs": [],
   "source": [
    "yNB_pred = model1.predict(XNB_test)"
   ]
  },
  {
   "cell_type": "code",
   "execution_count": 14,
   "id": "d16a8fc5-ebb2-4fbc-89c5-ea24706afe8f",
   "metadata": {},
   "outputs": [
    {
     "name": "stdout",
     "output_type": "stream",
     "text": [
      "Accuracy: 0.7932510702593805\n"
     ]
    }
   ],
   "source": [
    "from sklearn import metrics\n",
    "print('Accuracy:',metrics.accuracy_score(yNB_test,yNB_pred)*100)"
   ]
  },
  {
   "cell_type": "code",
   "execution_count": 21,
   "id": "1a08bbf9-cef0-483e-92ec-ab4db3065299",
   "metadata": {},
   "outputs": [
    {
     "data": {
      "text/plain": [
       "0.009659489504074253"
      ]
     },
     "execution_count": 21,
     "metadata": {},
     "output_type": "execute_result"
    }
   ],
   "source": [
    "model1.score(XNB_train,yNB_train)"
   ]
  },
  {
   "cell_type": "code",
   "execution_count": null,
   "id": "fd8d2685-c611-4a0b-8a69-b4aee6dda69f",
   "metadata": {},
   "outputs": [],
   "source": []
  },
  {
   "cell_type": "code",
   "execution_count": null,
   "id": "40ee5e4e-9764-4bbd-9736-47f2f2ba4a3d",
   "metadata": {},
   "outputs": [],
   "source": []
  },
  {
   "cell_type": "code",
   "execution_count": null,
   "id": "c707acf1-abca-4d11-b9b4-d10bb6589b2e",
   "metadata": {},
   "outputs": [],
   "source": []
  },
  {
   "cell_type": "code",
   "execution_count": null,
   "id": "b83f14ec-ab63-40b5-96d4-6c7e27c4fcd1",
   "metadata": {},
   "outputs": [],
   "source": []
  }
 ],
 "metadata": {
  "kernelspec": {
   "display_name": "GeoPandasModule",
   "language": "python",
   "name": "geopandasmodule"
  },
  "language_info": {
   "codemirror_mode": {
    "name": "ipython",
    "version": 3
   },
   "file_extension": ".py",
   "mimetype": "text/x-python",
   "name": "python",
   "nbconvert_exporter": "python",
   "pygments_lexer": "ipython3",
   "version": "3.10.0"
  }
 },
 "nbformat": 4,
 "nbformat_minor": 5
}
