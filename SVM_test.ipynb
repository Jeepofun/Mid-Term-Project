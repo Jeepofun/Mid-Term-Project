{
 "cells": [
  {
   "cell_type": "code",
   "execution_count": 1,
   "id": "15c6d42b",
   "metadata": {},
   "outputs": [],
   "source": [
    "import pandas as pd\n",
    "from sklearn.metrics import mean_absolute_error as MAE\n",
    "import xgboost as xgb\n",
    "from sklearn.metrics import mean_squared_error\n",
    "import numpy as np\n",
    "from sklearn.model_selection import train_test_split\n",
    "import matplotlib.pyplot as plt\n",
    "from sklearn import metrics\n",
    "from sklearn.metrics import r2_score"
   ]
  },
  {
   "cell_type": "code",
   "execution_count": 2,
   "id": "c8a8e440",
   "metadata": {},
   "outputs": [
    {
     "data": {
      "text/html": [
       "<div>\n",
       "<style scoped>\n",
       "    .dataframe tbody tr th:only-of-type {\n",
       "        vertical-align: middle;\n",
       "    }\n",
       "\n",
       "    .dataframe tbody tr th {\n",
       "        vertical-align: top;\n",
       "    }\n",
       "\n",
       "    .dataframe thead th {\n",
       "        text-align: right;\n",
       "    }\n",
       "</style>\n",
       "<table border=\"1\" class=\"dataframe\">\n",
       "  <thead>\n",
       "    <tr style=\"text-align: right;\">\n",
       "      <th></th>\n",
       "      <th>day</th>\n",
       "      <th>unique_carrier_rank</th>\n",
       "      <th>tail_num_rank</th>\n",
       "      <th>origin_rank</th>\n",
       "      <th>dest_rank</th>\n",
       "      <th>distance</th>\n",
       "      <th>crs_arr_time</th>\n",
       "      <th>crs_elapsed_time</th>\n",
       "      <th>sdomt_gallons</th>\n",
       "      <th>tdomt_gallons</th>\n",
       "      <th>ts_cost</th>\n",
       "      <th>tdomt_cost</th>\n",
       "      <th>arr_delay</th>\n",
       "    </tr>\n",
       "  </thead>\n",
       "  <tbody>\n",
       "    <tr>\n",
       "      <th>0</th>\n",
       "      <td>1</td>\n",
       "      <td>11</td>\n",
       "      <td>5804</td>\n",
       "      <td>201</td>\n",
       "      <td>279</td>\n",
       "      <td>413.0</td>\n",
       "      <td>20.373333</td>\n",
       "      <td>91.0</td>\n",
       "      <td>53977431.0</td>\n",
       "      <td>53985306.0</td>\n",
       "      <td>142005277.0</td>\n",
       "      <td>114629092.0</td>\n",
       "      <td>12.0</td>\n",
       "    </tr>\n",
       "    <tr>\n",
       "      <th>1</th>\n",
       "      <td>3</td>\n",
       "      <td>11</td>\n",
       "      <td>5804</td>\n",
       "      <td>305</td>\n",
       "      <td>279</td>\n",
       "      <td>187.0</td>\n",
       "      <td>13.906667</td>\n",
       "      <td>65.0</td>\n",
       "      <td>53977431.0</td>\n",
       "      <td>53985306.0</td>\n",
       "      <td>142005277.0</td>\n",
       "      <td>114629092.0</td>\n",
       "      <td>3.0</td>\n",
       "    </tr>\n",
       "    <tr>\n",
       "      <th>2</th>\n",
       "      <td>4</td>\n",
       "      <td>11</td>\n",
       "      <td>5804</td>\n",
       "      <td>305</td>\n",
       "      <td>279</td>\n",
       "      <td>187.0</td>\n",
       "      <td>8.093333</td>\n",
       "      <td>70.0</td>\n",
       "      <td>53977431.0</td>\n",
       "      <td>53985306.0</td>\n",
       "      <td>142005277.0</td>\n",
       "      <td>114629092.0</td>\n",
       "      <td>-11.0</td>\n",
       "    </tr>\n",
       "    <tr>\n",
       "      <th>3</th>\n",
       "      <td>5</td>\n",
       "      <td>11</td>\n",
       "      <td>5804</td>\n",
       "      <td>295</td>\n",
       "      <td>279</td>\n",
       "      <td>867.0</td>\n",
       "      <td>17.200000</td>\n",
       "      <td>135.0</td>\n",
       "      <td>53977431.0</td>\n",
       "      <td>53985306.0</td>\n",
       "      <td>142005277.0</td>\n",
       "      <td>114629092.0</td>\n",
       "      <td>243.0</td>\n",
       "    </tr>\n",
       "    <tr>\n",
       "      <th>4</th>\n",
       "      <td>5</td>\n",
       "      <td>11</td>\n",
       "      <td>5804</td>\n",
       "      <td>130</td>\n",
       "      <td>279</td>\n",
       "      <td>369.0</td>\n",
       "      <td>21.493333</td>\n",
       "      <td>80.0</td>\n",
       "      <td>53977431.0</td>\n",
       "      <td>53985306.0</td>\n",
       "      <td>142005277.0</td>\n",
       "      <td>114629092.0</td>\n",
       "      <td>255.0</td>\n",
       "    </tr>\n",
       "  </tbody>\n",
       "</table>\n",
       "</div>"
      ],
      "text/plain": [
       "   day  unique_carrier_rank  tail_num_rank  origin_rank  dest_rank  distance  \\\n",
       "0    1                   11           5804          201        279     413.0   \n",
       "1    3                   11           5804          305        279     187.0   \n",
       "2    4                   11           5804          305        279     187.0   \n",
       "3    5                   11           5804          295        279     867.0   \n",
       "4    5                   11           5804          130        279     369.0   \n",
       "\n",
       "   crs_arr_time  crs_elapsed_time  sdomt_gallons  tdomt_gallons      ts_cost  \\\n",
       "0     20.373333              91.0     53977431.0     53985306.0  142005277.0   \n",
       "1     13.906667              65.0     53977431.0     53985306.0  142005277.0   \n",
       "2      8.093333              70.0     53977431.0     53985306.0  142005277.0   \n",
       "3     17.200000             135.0     53977431.0     53985306.0  142005277.0   \n",
       "4     21.493333              80.0     53977431.0     53985306.0  142005277.0   \n",
       "\n",
       "    tdomt_cost  arr_delay  \n",
       "0  114629092.0       12.0  \n",
       "1  114629092.0        3.0  \n",
       "2  114629092.0      -11.0  \n",
       "3  114629092.0      243.0  \n",
       "4  114629092.0      255.0  "
      ]
     },
     "execution_count": 2,
     "metadata": {},
     "output_type": "execute_result"
    }
   ],
   "source": [
    "data = pd.read_csv(\"Kevin_training.csv\", low_memory=False)\n",
    "data.head()"
   ]
  },
  {
   "cell_type": "code",
   "execution_count": 3,
   "id": "1a7c1594",
   "metadata": {},
   "outputs": [],
   "source": [
    "data_train = data[['day',\n",
    " 'unique_carrier_rank',\n",
    " 'tail_num_rank',\n",
    " 'origin_rank',\n",
    " 'dest_rank',\n",
    " 'distance',\n",
    " 'crs_arr_time',\n",
    " 'crs_elapsed_time',\n",
    " 'sdomt_gallons',\n",
    " 'tdomt_gallons',\n",
    " 'ts_cost',\n",
    " 'tdomt_cost']]"
   ]
  },
  {
   "cell_type": "code",
   "execution_count": 4,
   "id": "fbafc8fd",
   "metadata": {},
   "outputs": [],
   "source": [
    "X = data_train\n",
    "y = data['arr_delay']"
   ]
  },
  {
   "cell_type": "code",
   "execution_count": 8,
   "id": "80a24b3a",
   "metadata": {},
   "outputs": [
    {
     "data": {
      "text/plain": [
       "SVR()"
      ]
     },
     "execution_count": 8,
     "metadata": {},
     "output_type": "execute_result"
    }
   ],
   "source": [
    "from sklearn.svm import SVR\n",
    "\n",
    "X_train, X_test, y_train, y_test = train_test_split(X,y, test_size=.2, random_state=123)\n",
    "regressor = SVR(kernel = 'rbf')\n",
    "regressor.fit(X, y)"
   ]
  },
  {
   "cell_type": "code",
   "execution_count": 9,
   "id": "88ef5a6f",
   "metadata": {},
   "outputs": [],
   "source": [
    "\n",
    "y_pred = regressor.predict(X_test)"
   ]
  },
  {
   "cell_type": "code",
   "execution_count": 10,
   "id": "6b36975e",
   "metadata": {},
   "outputs": [
    {
     "name": "stdout",
     "output_type": "stream",
     "text": [
      "0.015152681870695628\n"
     ]
    }
   ],
   "source": [
    "print(metrics.r2_score(y_test, y_pred))"
   ]
  },
  {
   "cell_type": "code",
   "execution_count": 11,
   "id": "8902d8dd",
   "metadata": {},
   "outputs": [
    {
     "name": "stdout",
     "output_type": "stream",
     "text": [
      "21.987560197876046\n"
     ]
    }
   ],
   "source": [
    "print(MAE(y_test,y_pred))"
   ]
  }
 ],
 "metadata": {
  "kernelspec": {
   "display_name": "Python 3 (ipykernel)",
   "language": "python",
   "name": "python3"
  },
  "language_info": {
   "codemirror_mode": {
    "name": "ipython",
    "version": 3
   },
   "file_extension": ".py",
   "mimetype": "text/x-python",
   "name": "python",
   "nbconvert_exporter": "python",
   "pygments_lexer": "ipython3",
   "version": "3.9.7"
  }
 },
 "nbformat": 4,
 "nbformat_minor": 5
}
